{
 "cells": [
  {
   "cell_type": "code",
   "execution_count": null,
   "id": "f35c2377",
   "metadata": {},
   "outputs": [],
   "source": [
    "import pandas as pd"
   ]
  },
  {
   "cell_type": "code",
   "execution_count": 19,
   "id": "7cecc88b",
   "metadata": {},
   "outputs": [],
   "source": [
    "# Задание 1"
   ]
  },
  {
   "cell_type": "code",
   "execution_count": null,
   "id": "52358955",
   "metadata": {},
   "outputs": [],
   "source": [
    "data = pd.read_csv('ratings.csv')\n",
    "data.head()"
   ]
  },
  {
   "cell_type": "code",
   "execution_count": null,
   "id": "3037d886",
   "metadata": {},
   "outputs": [],
   "source": [
    "def rating_class(row):\n",
    "    if row['rating'] <= 2.0:\n",
    "        mark = 'low'\n",
    "    elif 2 < row['rating'] <= 4.0:\n",
    "        mark = 'middle'\n",
    "    elif 4.5 <= row['rating'] <= 5.0:\n",
    "        mark = 'high'\n",
    "    return mark"
   ]
  },
  {
   "cell_type": "code",
   "execution_count": null,
   "id": "09f630be",
   "metadata": {},
   "outputs": [],
   "source": [
    "data['rating_class'] = data.apply(rating_class, axis = 1)\n",
    "data.head()"
   ]
  },
  {
   "cell_type": "code",
   "execution_count": null,
   "id": "f09226dd",
   "metadata": {},
   "outputs": [],
   "source": [
    "# Задание 2"
   ]
  },
  {
   "cell_type": "code",
   "execution_count": null,
   "id": "6f9b82c2",
   "metadata": {},
   "outputs": [],
   "source": [
    "data_2 = pd.read_csv('keywords.csv')\n",
    "data_2"
   ]
  },
  {
   "cell_type": "code",
   "execution_count": null,
   "id": "ac700503",
   "metadata": {},
   "outputs": [],
   "source": [
    "def geo_class(row):\n",
    "    geo_data = {'Центр': ['москва', 'тула', 'ярославль'],\n",
    "                'Северо-Запад': ['петербург', 'псков', 'мурманск'],\n",
    "                'Дальний Восток': ['владивосток', 'сахалин', 'хабаровск']\n",
    "               }\n",
    "    words = row['keyword'].split(' ')\n",
    "    for word in words:\n",
    "        for key, element in geo_data.items():\n",
    "            if word in element:\n",
    "                return key\n",
    "    return 'undefined'"
   ]
  },
  {
   "cell_type": "code",
   "execution_count": null,
   "id": "db39a976",
   "metadata": {},
   "outputs": [],
   "source": [
    "data_2['geo'] = data_2.apply(geo_class, axis = 1)"
   ]
  }
 ],
 "metadata": {
  "kernelspec": {
   "display_name": "Python 3 (ipykernel)",
   "language": "python",
   "name": "python3"
  },
  "language_info": {
   "codemirror_mode": {
    "name": "ipython",
    "version": 3
   },
   "file_extension": ".py",
   "mimetype": "text/x-python",
   "name": "python",
   "nbconvert_exporter": "python",
   "pygments_lexer": "ipython3",
   "version": "3.10.9"
  }
 },
 "nbformat": 4,
 "nbformat_minor": 5
}
